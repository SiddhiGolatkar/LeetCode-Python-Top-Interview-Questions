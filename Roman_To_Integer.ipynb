{
 "cells": [
  {
   "cell_type": "markdown",
   "metadata": {},
   "source": [
    "https://youtu.be/1IPf9vXohl8?si=97TmefiqMM6GMrCq "
   ]
  },
  {
   "cell_type": "markdown",
   "metadata": {},
   "source": [
    "Roman numerals are represented by seven different symbols: I, V, X, L, C, D and M.\n",
    "\n",
    "Symbol       Value\n",
    "\n",
    "I      :       1\n",
    "\n",
    "V      :      5\n",
    "\n",
    "X      :      10\n",
    "\n",
    "L      :      50\n",
    "\n",
    "C      :      100\n",
    "\n",
    "D      :     500\n",
    "\n",
    "M      :     1000\n",
    "\n",
    "For example, 2 is written as II in Roman numeral, just two ones added together. 12 is written as XII, which is simply X + II. The number 27 is written as XXVII, which is XX + V + II.\n",
    "\n",
    "Roman numerals are usually written largest to smallest from left to right. However, the numeral for four is not IIII. Instead, the number four is written as IV. Because the one is before the five we subtract it making four. The same principle applies to the number nine, which is written as IX. There are six instances where subtraction is used:\n",
    "\n",
    "I can be placed before V (5) and X (10) to make 4 and 9. \n",
    "X can be placed before L (50) and C (100) to make 40 and 90. \n",
    "C can be placed before D (500) and M (1000) to make 400 and 900.\n",
    "Given a roman numeral, convert it to an integer.\n",
    "\n",
    " \n",
    "\n",
    "Example 1:\n",
    "\n",
    "Input: s = \"III\"\n",
    "Output: 3\n",
    "Explanation: III = 3.\n",
    "Example 2:\n",
    "\n",
    "Input: s = \"LVIII\"\n",
    "Output: 58\n",
    "Explanation: L = 50, V= 5, III = 3.\n",
    "Example 3:\n",
    "\n",
    "Input: s = \"MCMXCIV\"\n",
    "Output: 1994\n",
    "Explanation: M = 1000, CM = 900, XC = 90 and IV = 4."
   ]
  },
  {
   "cell_type": "code",
   "execution_count": 1,
   "metadata": {},
   "outputs": [],
   "source": [
    "s = \"MCMXCIV\""
   ]
  },
  {
   "cell_type": "code",
   "execution_count": 2,
   "metadata": {},
   "outputs": [],
   "source": [
    "def romanTointeger(s):\n",
    "    roman = { \"I\" : 1,\n",
    "              \"V\" : 5,\n",
    "             \"X\" :  10,\n",
    "             \"L\" :  50,\n",
    "             \"C\" :  100,\n",
    "             \"D\" :  500,\n",
    "             \"M\" :  1000}\n",
    "    \n",
    "    previous = \"I\"\n",
    "    result = 0\n",
    "    for current in s[::-1]:\n",
    "        if roman[current] < roman[previous]:\n",
    "            result = result - roman[current]\n",
    "        else:\n",
    "            result = result + roman[current]\n",
    "        previous = current\n",
    "    return result"
   ]
  },
  {
   "cell_type": "code",
   "execution_count": 3,
   "metadata": {},
   "outputs": [
    {
     "data": {
      "text/plain": [
       "1994"
      ]
     },
     "execution_count": 3,
     "metadata": {},
     "output_type": "execute_result"
    }
   ],
   "source": [
    "romanTointeger(s)"
   ]
  },
  {
   "cell_type": "code",
   "execution_count": null,
   "metadata": {},
   "outputs": [],
   "source": []
  },
  {
   "cell_type": "code",
   "execution_count": null,
   "metadata": {},
   "outputs": [],
   "source": []
  }
 ],
 "metadata": {
  "kernelspec": {
   "display_name": "Python 3",
   "language": "python",
   "name": "python3"
  },
  "language_info": {
   "codemirror_mode": {
    "name": "ipython",
    "version": 3
   },
   "file_extension": ".py",
   "mimetype": "text/x-python",
   "name": "python",
   "nbconvert_exporter": "python",
   "pygments_lexer": "ipython3",
   "version": "3.7.6"
  }
 },
 "nbformat": 4,
 "nbformat_minor": 4
}
